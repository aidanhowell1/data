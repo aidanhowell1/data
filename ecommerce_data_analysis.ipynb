{
 "cells": [
  {
   "cell_type": "markdown",
   "metadata": {},
   "source": [
    "# E-commerce Data Analysis (Python)\n",
    "\n",
    "This notebook demonstrates cleaning, exploration, and visualization of the synthetic e-commerce dataset."
   ]
  },
  {
   "cell_type": "code",
   "execution_count": null,
   "metadata": {},
   "outputs": [],
   "source": [
    "import pandas as pd\n",
    "import matplotlib.pyplot as plt\n",
    "import seaborn as sns\n",
    "df = pd.read_csv('../data/ecommerce_sales_data.csv', parse_dates=['OrderDate'])"
   ]
  },
  {
   "cell_type": "markdown",
   "metadata": {},
   "source": [
    "## Data Cleaning"
   ]
  },
  {
   "cell_type": "code",
   "execution_count": null,
   "metadata": {},
   "outputs": [],
   "source": [
    "print(df.info())\n",
    "print(df.isnull().sum())"
   ]
  },
  {
   "cell_type": "markdown",
   "metadata": {},
   "source": [
    "## Sales Trend Over Time"
   ]
  },
  {
   "cell_type": "code",
   "execution_count": null,
   "metadata": {},
   "outputs": [],
   "source": [
    "daily_sales = df.groupby('OrderDate')['OrderAmount'].sum()\n",
    "plt.figure(figsize=(12,5))\n",
    "daily_sales.plot()\n",
    "plt.title('Daily Sales Trend')\n",
    "plt.xlabel('Date')\n",
    "plt.ylabel('Total Sales ($)')\n",
    "plt.tight_layout()\n",
    "plt.savefig('../visualizations/sales_trends.png')\n",
    "plt.show()"
   ]
  },
  {
   "cell_type": "markdown",
   "metadata": {},
   "source": [
    "## Average Order Amount by Region"
   ]
  },
  {
   "cell_type": "code",
   "execution_count": null,
   "metadata": {},
   "outputs": [],
   "source": [
    "plt.figure(figsize=(8,5))\n",
    "sns.barplot(data=df, x='Region', y='OrderAmount', ci=None)\n",
    "plt.title('Average Order Amount by Region')\n",
    "plt.tight_layout()\n",
    "plt.savefig('../visualizations/region_avg_order.png')\n",
    "plt.show()"
   ]
  },
  {
   "cell_type": "markdown",
   "metadata": {},
   "source": [
    "## Product Category vs Payment Method (Heatmap)"
   ]
  },
  {
   "cell_type": "code",
   "execution_count": null,
   "metadata": {},
   "outputs": [],
   "source": [
    "pivot = df.pivot_table(index='ProductCategory', columns='PaymentMethod', values='OrderAmount', aggfunc='sum')\n",
    "plt.figure(figsize=(8,5))\n",
    "sns.heatmap(pivot, annot=True, fmt='.0f', cmap='Blues')\n",
    "plt.title('Sales by Product Category and Payment Method')\n",
    "plt.tight_layout()\n",
    "plt.savefig('../visualizations/category_heatmap.png')\n",
    "plt.show()"
   ]
  },
  {
   "cell_type": "markdown",
   "metadata": {},
   "source": [
    "## Customer Age vs. Order Amount"
   ]
  },
  {
   "cell_type": "code",
   "execution_count": null,
   "metadata": {},
   "outputs": [],
   "source": [
    "plt.figure(figsize=(8,5))\n",
    "sns.scatterplot(data=df, x='Age', y='OrderAmount', hue='Gender', alpha=0.7)\n",
    "plt.title('Customer Age vs. Order Amount')\n",
    "plt.tight_layout()\n",
    "plt.savefig('../visualizations/age_vs_order.png')\n",
    "plt.show()"
   ]
  }
 ],
 "metadata": {
  "kernelspec": {
   "display_name": "Python 3",
   "language": "python",
   "name": "python3"
  },
  "language_info": {
   "name": "python",
   "version": ""
  }
 },
 "nbformat": 4,
 "nbformat_minor": 4
}